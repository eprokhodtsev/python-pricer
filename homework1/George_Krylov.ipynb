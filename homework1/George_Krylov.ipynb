{
  "cells": [
    {
      "cell_type": "code",
      "execution_count": 1,
      "metadata": {
        "id": "8Qw7_nivay5m"
      },
      "outputs": [],
      "source": [
        "class Interpolation(object):\n",
        "    \"\"\"\n",
        "    Class for calculating linear interpolation\n",
        "\n",
        "    Functions:\n",
        "        interpolate_simple(self)\n",
        "    \"\"\"\n",
        "\n",
        "    def __init__(self, x_array, y_array, z_array):\n",
        "        \"\"\"\n",
        "        Constructor of a interpolation class object for\n",
        "        calculating linear interpolation\n",
        "        Returns\n",
        "        -------\n",
        "        output : Interpolation object\n",
        "\n",
        "        Parameters\n",
        "        ----------\n",
        "        x_array: list\n",
        "            x values\n",
        "        y_array: list\n",
        "            y values\n",
        "        z: float\n",
        "            z value\n",
        "        \"\"\"\n",
        "        self.x = x_array\n",
        "        self.y = y_array\n",
        "        self.z = z_array\n",
        "\n",
        "    def interpolate_simple(self):\n",
        "        \"\"\"\n",
        "        Function for calculating linear interpolation\n",
        "\n",
        "        Returns\n",
        "        -------\n",
        "        output : func value in z\n",
        "            k = f(z)\n",
        "        \"\"\"\n",
        "        k=[]\n",
        "        self.z=[int((datetime.strptime(x, \"%d.%m.%Y\")-datetime.today()).days) for x in self.z]\n",
        "        #type(self.z[0])\n",
        "        for u in self.z:\n",
        "            for i in range(len(self.x) - 1):\n",
        "                if u > self.x[i] and u <= self.x[i + 1]:\n",
        "                    k.append(self.y[i] + (self.y[i + 1] - self.y[i]) / (\n",
        "                        self.x[i + 1] - self.x[i]\n",
        "                        ) * (u - self.x[i]))\n",
        "        return k\n",
        "\n",
        "def datefun(x):\n",
        "    date_after = None\n",
        "    if 'M' in x:\n",
        "        date_after = datetime.today() + relativedelta(months=int(x[:-1]))\n",
        "    elif 'Y' in x:\n",
        "        date_after = datetime.today() + relativedelta(years=int(x[:-1]))\n",
        "    elif 'W' in x:\n",
        "        date_after = datetime.today() + relativedelta(weeks=int(x[:-1]))\n",
        "    return (date_after - datetime.today() + timedelta(days=1)).days\n"
      ]
    },
    {
      "cell_type": "code",
      "execution_count": 9,
      "metadata": {
        "colab": {
          "base_uri": "https://localhost:8080/",
          "height": 416
        },
        "id": "eCO_wfoTgFG3",
        "outputId": "fa376837-4b6c-4fea-a10f-f5ed6a0161c2"
      },
      "outputs": [
        {
          "data": {
            "text/html": [
              "<div>\n",
              "<style scoped>\n",
              "    .dataframe tbody tr th:only-of-type {\n",
              "        vertical-align: middle;\n",
              "    }\n",
              "\n",
              "    .dataframe tbody tr th {\n",
              "        vertical-align: top;\n",
              "    }\n",
              "\n",
              "    .dataframe thead th {\n",
              "        text-align: right;\n",
              "    }\n",
              "</style>\n",
              "<table border=\"1\" class=\"dataframe\">\n",
              "  <thead>\n",
              "    <tr style=\"text-align: right;\">\n",
              "      <th></th>\n",
              "      <th>Term</th>\n",
              "      <th>SW POINTS</th>\n",
              "      <th>days</th>\n",
              "    </tr>\n",
              "  </thead>\n",
              "  <tbody>\n",
              "    <tr>\n",
              "      <th>1</th>\n",
              "      <td>1W</td>\n",
              "      <td>933</td>\n",
              "      <td>7</td>\n",
              "    </tr>\n",
              "    <tr>\n",
              "      <th>2</th>\n",
              "      <td>2W</td>\n",
              "      <td>2269</td>\n",
              "      <td>14</td>\n",
              "    </tr>\n",
              "    <tr>\n",
              "      <th>3</th>\n",
              "      <td>1M</td>\n",
              "      <td>4156</td>\n",
              "      <td>30</td>\n",
              "    </tr>\n",
              "    <tr>\n",
              "      <th>4</th>\n",
              "      <td>2M</td>\n",
              "      <td>8174</td>\n",
              "      <td>61</td>\n",
              "    </tr>\n",
              "    <tr>\n",
              "      <th>5</th>\n",
              "      <td>3M</td>\n",
              "      <td>12766</td>\n",
              "      <td>92</td>\n",
              "    </tr>\n",
              "    <tr>\n",
              "      <th>6</th>\n",
              "      <td>6M</td>\n",
              "      <td>25723</td>\n",
              "      <td>181</td>\n",
              "    </tr>\n",
              "    <tr>\n",
              "      <th>7</th>\n",
              "      <td>9M</td>\n",
              "      <td>39130</td>\n",
              "      <td>273</td>\n",
              "    </tr>\n",
              "    <tr>\n",
              "      <th>8</th>\n",
              "      <td>12M</td>\n",
              "      <td>52760</td>\n",
              "      <td>365</td>\n",
              "    </tr>\n",
              "    <tr>\n",
              "      <th>9</th>\n",
              "      <td>2Y</td>\n",
              "      <td>101653</td>\n",
              "      <td>730</td>\n",
              "    </tr>\n",
              "    <tr>\n",
              "      <th>10</th>\n",
              "      <td>3Y</td>\n",
              "      <td>143324</td>\n",
              "      <td>1096</td>\n",
              "    </tr>\n",
              "    <tr>\n",
              "      <th>11</th>\n",
              "      <td>4Y</td>\n",
              "      <td>180040</td>\n",
              "      <td>1461</td>\n",
              "    </tr>\n",
              "    <tr>\n",
              "      <th>12</th>\n",
              "      <td>5Y</td>\n",
              "      <td>214681</td>\n",
              "      <td>1826</td>\n",
              "    </tr>\n",
              "  </tbody>\n",
              "</table>\n",
              "</div>"
            ],
            "text/plain": [
              "   Term  SW POINTS  days\n",
              "1    1W        933     7\n",
              "2    2W       2269    14\n",
              "3    1M       4156    30\n",
              "4    2M       8174    61\n",
              "5    3M      12766    92\n",
              "6    6M      25723   181\n",
              "7    9M      39130   273\n",
              "8   12M      52760   365\n",
              "9    2Y     101653   730\n",
              "10   3Y     143324  1096\n",
              "11   4Y     180040  1461\n",
              "12   5Y     214681  1826"
            ]
          },
          "execution_count": 9,
          "metadata": {},
          "output_type": "execute_result"
        }
      ],
      "source": [
        "from datetime import datetime, timedelta\n",
        "from dateutil.relativedelta import relativedelta\n",
        "import pandas as pd\n",
        "df=pd.read_csv('../data/RUB swap points.csv')\n",
        "df=df[['Term', 'SW POINTS']]\n",
        "df = df.iloc[1:]\n",
        "df['days'] = df['Term'].apply(lambda x: datefun(x))\n",
        "df"
      ]
    },
    {
      "cell_type": "code",
      "execution_count": 10,
      "metadata": {
        "colab": {
          "base_uri": "https://localhost:8080/"
        },
        "id": "AYl4vA9abCxn",
        "outputId": "1b460254-e16a-4a30-a4a9-172392056f41"
      },
      "outputs": [
        {
          "data": {
            "text/plain": [
              "[4415.225806451613, 57046.509589041096, 105296.36612021858, 146542.93698630136]"
            ]
          },
          "execution_count": 10,
          "metadata": {},
          "output_type": "execute_result"
        }
      ],
      "source": [
        "Interpolation(list(df['days']),list(df['SW POINTS']),['10.12.2021','10.12.2022','10.12.2023','10.12.2024'],).interpolate_simple() \n"
      ]
    }
  ],
  "metadata": {
    "colab": {
      "collapsed_sections": [],
      "name": "CMF derivat.ipynb",
      "provenance": []
    },
    "kernelspec": {
      "display_name": "Python 3",
      "name": "python3"
    },
    "language_info": {
      "codemirror_mode": {
        "name": "ipython",
        "version": 3
      },
      "file_extension": ".py",
      "mimetype": "text/x-python",
      "name": "python",
      "nbconvert_exporter": "python",
      "pygments_lexer": "ipython3",
      "version": "3.8.10"
    }
  },
  "nbformat": 4,
  "nbformat_minor": 0
}
